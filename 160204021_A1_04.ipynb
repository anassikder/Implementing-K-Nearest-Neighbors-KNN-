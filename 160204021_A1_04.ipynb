{
 "cells": [
  {
   "cell_type": "code",
   "execution_count": 1,
   "metadata": {},
   "outputs": [],
   "source": [
    "#import necessary libaries\n",
    "import math\n",
    "import pandas as pd\n",
    "import numpy as np\n",
    "from matplotlib import cm\n",
    "import matplotlib.pyplot as plt\n",
    "import matplotlib.pyplot as plt"
   ]
  },
  {
   "cell_type": "code",
   "execution_count": 2,
   "metadata": {},
   "outputs": [
    {
     "name": "stdout",
     "output_type": "stream",
     "text": [
      "[7 7 1]\n",
      "[[3 7]\n",
      " [7 7]\n",
      " [4 3]\n",
      " [2 8]\n",
      " [3 5]\n",
      " [1 2]\n",
      " [4 8]\n",
      " [8 3]\n",
      " [8 4]]\n"
     ]
    }
   ],
   "source": [
    "traindataset=pd.read_csv('train_knn.txt',sep=\" \",header=None)\n",
    "train=traindataset.to_numpy();\n",
    "#print(train)\n",
    "testdataset=pd.read_csv('test_knn.txt',sep=\" \",header=None)\n",
    "#print(testdataset)\n",
    "test=testdataset.to_numpy();\n",
    "print(train[0])\n",
    "print(test)"
   ]
  },
  {
   "cell_type": "code",
   "execution_count": 3,
   "metadata": {},
   "outputs": [],
   "source": [
    "#PART1"
   ]
  },
  {
   "cell_type": "code",
   "execution_count": 4,
   "metadata": {},
   "outputs": [
    {
     "name": "stdout",
     "output_type": "stream",
     "text": [
      "[[7 7]\n",
      " [7 4]\n",
      " [6 4]\n",
      " [7 5]\n",
      " [7 6]\n",
      " [6 7]\n",
      " [6 6]]\n",
      "[[3 4]\n",
      " [2 3]\n",
      " [3 2]\n",
      " [4 3]\n",
      " [3 3]\n",
      " [4 4]\n",
      " [1 4]]\n"
     ]
    }
   ],
   "source": [
    "Trainclass1 =[([i[0],i[1]]) for i in train if i[2] == 1]\n",
    "Trainclass2 =[([i[0],i[1]]) for i in train if i[2] == 2]\n",
    "Trainclass1 = np.array(Trainclass1)\n",
    "Trainclass2 = np.array(Trainclass2)\n",
    "print(Trainclass1)\n",
    "print(Trainclass2)"
   ]
  },
  {
   "cell_type": "code",
   "execution_count": 5,
   "metadata": {},
   "outputs": [
    {
     "data": {
      "text/plain": [
       "array([[7, 7],\n",
       "       [7, 4],\n",
       "       [6, 4],\n",
       "       [7, 5],\n",
       "       [7, 6],\n",
       "       [6, 7],\n",
       "       [6, 6],\n",
       "       [3, 4],\n",
       "       [2, 3],\n",
       "       [3, 2],\n",
       "       [4, 3],\n",
       "       [3, 3],\n",
       "       [4, 4],\n",
       "       [1, 4]], dtype=int64)"
      ]
     },
     "execution_count": 5,
     "metadata": {},
     "output_type": "execute_result"
    }
   ],
   "source": [
    "x = np.concatenate((Trainclass1, Trainclass2), axis=0)\n",
    "x"
   ]
  },
  {
   "cell_type": "code",
   "execution_count": 6,
   "metadata": {},
   "outputs": [
    {
     "data": {
      "text/plain": [
       "Text(0, 0.5, 'y')"
      ]
     },
     "execution_count": 6,
     "metadata": {},
     "output_type": "execute_result"
    },
    {
     "data": {
      "image/png": "[encoded data removed]",
      "text/plain": [
       "<Figure size 1080x720 with 1 Axes>"
      ]
     },
     "metadata": {
      "needs_background": "light"
     },
     "output_type": "display_data"
    }
   ],
   "source": [
    "fig, axis = plt.subplots()\n",
    "fig.set_figheight(10)\n",
    "fig.set_figwidth(15)\n",
    "#scatting train values\n",
    "axis.scatter(Trainclass1[:,0],Trainclass1[:,1],marker='x',color='blue',s=70,label='Train Class 1')\n",
    "axis.scatter(Trainclass2[:,0],Trainclass2[:,1],marker='x',color='red',s=70,label='Train Class 2')\n",
    "#labeling decoration \n",
    "legend = axis.legend(loc='upper left',fontsize='large',labelspacing=1.0)\n",
    "legend.get_frame().set_facecolor('pink')\n",
    "axis.set_xlabel('x')\n",
    "axis.set_ylabel('y')"
   ]
  },
  {
   "cell_type": "code",
   "execution_count": 7,
   "metadata": {},
   "outputs": [],
   "source": [
    "#part2"
   ]
  },
  {
   "cell_type": "code",
   "execution_count": 8,
   "metadata": {},
   "outputs": [],
   "source": [
    "def euclidian_dist(p1, p2):\n",
    "    sum = 0\n",
    "    sum = math.pow(p1[0] - p2[0], 2) + math.pow(p1[1] - p2[1], 2)\n",
    "    return round(math.sqrt(sum),2)"
   ]
  },
  {
   "cell_type": "code",
   "execution_count": 9,
   "metadata": {},
   "outputs": [],
   "source": [
    "def knn_eu(x,train_set, new_sample, K):\n",
    "    dists = {}\n",
    "    \n",
    "    for i in range(len(x)):\n",
    "      d = euclidian_dist(x[i], new_sample)\n",
    "      dists[i] = d\n",
    "    \n",
    "    k_neighbors = sorted(dists, key=dists.get)[:K]\n",
    "    \n",
    "    qty_label1 = 0 \n",
    "    qty_label2 = 0\n",
    "    for index in k_neighbors:\n",
    "        if train_set[index][-1] == 1:\n",
    "            qty_label1 += 1\n",
    "        else:\n",
    "            qty_label2 += 1\n",
    "            \n",
    "    if qty_label1 > qty_label2:\n",
    "        return 1\n",
    "    else:\n",
    "        return 2"
   ]
  },
  {
   "cell_type": "code",
   "execution_count": 10,
   "metadata": {},
   "outputs": [],
   "source": [
    "def manhattan_dist(p1,p2):\n",
    "    sum = 0\n",
    "    sum = abs(p1[0]-p2[0]) +  abs(p1[1]-p2[1])\n",
    "    return sum"
   ]
  },
  {
   "cell_type": "code",
   "execution_count": 11,
   "metadata": {},
   "outputs": [],
   "source": [
    "def knn_man(x,train_set, new_sample, K):\n",
    "    dists = {}\n",
    "    \n",
    "    for i in range(len(x)):\n",
    "      d = manhattan_dist(x[i], new_sample)\n",
    "      dists[i] = d\n",
    "    \n",
    "    k_neighbors = sorted(dists, key=dists.get)[:K]\n",
    "    \n",
    "    qty_label1 = 0 \n",
    "    qty_label2 = 0\n",
    "    for index in k_neighbors:\n",
    "        if train_set[index][-1] == 1:\n",
    "            qty_label1 += 1\n",
    "        else:\n",
    "            qty_label2 += 1\n",
    "            \n",
    "    if qty_label1 > qty_label2:\n",
    "        return 1\n",
    "    else:\n",
    "        return 2"
   ]
  },
  {
   "cell_type": "code",
   "execution_count": 12,
   "metadata": {},
   "outputs": [],
   "source": [
    "def minkowski_dist(p1,p2):\n",
    "    sum = 0\n",
    "    p=1.5\n",
    "    pp = 1/p\n",
    "    sum = math.pow((abs(p1[0]-p2[0])),p) +  math.pow((abs(p1[1]-p2[1])),p)\n",
    "    return round(sum**pp,2)"
   ]
  },
  {
   "cell_type": "code",
   "execution_count": 13,
   "metadata": {},
   "outputs": [],
   "source": [
    "def knn_min(x,train_set, new_sample, K):\n",
    "    dists = {}\n",
    "    \n",
    "    for i in range(len(x)):\n",
    "      d = minkowski_dist(x[i], new_sample)\n",
    "      dists[i] = d\n",
    "    \n",
    "    k_neighbors = sorted(dists, key=dists.get)[:K]\n",
    "    \n",
    "    qty_label1 = 0 \n",
    "    qty_label2 = 0\n",
    "    for index in k_neighbors:\n",
    "        if train_set[index][-1] == 1:\n",
    "            qty_label1 += 1\n",
    "        else:\n",
    "            qty_label2 += 1\n",
    "            \n",
    "    if qty_label1 > qty_label2:\n",
    "        return 1\n",
    "    else:\n",
    "        return 2"
   ]
  },
  {
   "cell_type": "code",
   "execution_count": 84,
   "metadata": {},
   "outputs": [
    {
     "name": "stdout",
     "output_type": "stream",
     "text": [
      "Enter your value of k: 9\n"
     ]
    },
    {
     "data": {
      "text/plain": [
       "[2, 1, 2, 2, 2, 2, 1, 1, 1]"
      ]
     },
     "execution_count": 84,
     "metadata": {},
     "output_type": "execute_result"
    }
   ],
   "source": [
    "K = int(input(\"Enter your value of k: \") )\n",
    "l = []\n",
    "for j in range(len(test)):\n",
    "    label = knn_eu(x,train, test[j], K)\n",
    "    l.append(label)\n",
    "l"
   ]
  },
  {
   "cell_type": "code",
   "execution_count": 87,
   "metadata": {},
   "outputs": [
    {
     "name": "stdout",
     "output_type": "stream",
     "text": [
      "Enter your value of k: 5\n"
     ]
    },
    {
     "data": {
      "text/plain": [
       "[1, 1, 2, 2, 2, 2, 1, 1, 1]"
      ]
     },
     "execution_count": 87,
     "metadata": {},
     "output_type": "execute_result"
    }
   ],
   "source": [
    "K = int(input(\"Enter your value of k: \") )\n",
    "l = []\n",
    "for j in range(len(test)):\n",
    "    label = knn_man(x,train, test[j], K)\n",
    "    l.append(label)\n",
    "l"
   ]
  },
  {
   "cell_type": "code",
   "execution_count": 93,
   "metadata": {},
   "outputs": [
    {
     "name": "stdout",
     "output_type": "stream",
     "text": [
      "Enter your value of k: 7\n"
     ]
    },
    {
     "data": {
      "text/plain": [
       "[2, 1, 2, 2, 2, 2, 1, 1, 1]"
      ]
     },
     "execution_count": 93,
     "metadata": {},
     "output_type": "execute_result"
    }
   ],
   "source": [
    "K = int(input(\"Enter your value of k: \") )\n",
    "l = []\n",
    "for j in range(len(test)):\n",
    "    label = knn_min(x,train, test[j], K)\n",
    "    l.append(label)\n",
    "l"
   ]
  },
  {
   "cell_type": "code",
   "execution_count": 94,
   "metadata": {},
   "outputs": [
    {
     "name": "stdout",
     "output_type": "stream",
     "text": [
      "[2 1 2 2 2 2 1 1 1]\n"
     ]
    }
   ],
   "source": [
    "test_label = np.array(l)\n",
    "print(test_label)"
   ]
  },
  {
   "cell_type": "code",
   "execution_count": 95,
   "metadata": {},
   "outputs": [],
   "source": [
    "y=np.zeros([9,3])\n",
    "y[:,0]=test[:,0]\n",
    "y[:,1]=test[:,1]\n",
    "y[:,2]=test_label"
   ]
  },
  {
   "cell_type": "code",
   "execution_count": 96,
   "metadata": {},
   "outputs": [
    {
     "data": {
      "text/plain": [
       "array([[3., 7., 2.],\n",
       "       [7., 7., 1.],\n",
       "       [4., 3., 2.],\n",
       "       [2., 8., 2.],\n",
       "       [3., 5., 2.],\n",
       "       [1., 2., 2.],\n",
       "       [4., 8., 1.],\n",
       "       [8., 3., 1.],\n",
       "       [8., 4., 1.]])"
      ]
     },
     "execution_count": 96,
     "metadata": {},
     "output_type": "execute_result"
    }
   ],
   "source": [
    "y"
   ]
  },
  {
   "cell_type": "code",
   "execution_count": 97,
   "metadata": {},
   "outputs": [],
   "source": [
    "test1 =[([i[0],i[1]]) for i in y if i[2] == 1]\n",
    "test2 =[([i[0],i[1]]) for i in y if i[2] == 2]\n",
    "test1 = np.array(test1)\n",
    "test2 = np.array(test2)"
   ]
  },
  {
   "cell_type": "code",
   "execution_count": 98,
   "metadata": {},
   "outputs": [
    {
     "data": {
      "text/plain": [
       "Text(0, 0.5, 'y')"
      ]
     },
     "execution_count": 98,
     "metadata": {},
     "output_type": "execute_result"
    },
    {
     "data": {
      "image/png": "[encoded data removed]",
      "text/plain": [
       "<Figure size 1080x720 with 1 Axes>"
      ]
     },
     "metadata": {
      "needs_background": "light"
     },
     "output_type": "display_data"
    }
   ],
   "source": [
    "fig, axis = plt.subplots()\n",
    "fig.set_figheight(10)\n",
    "fig.set_figwidth(15)\n",
    "#scatting train values\n",
    "axis.scatter(test1[:,0],test1[:,1],marker='x',color='blue',s=70,label='Test Class 1')\n",
    "axis.scatter(test2[:,0],test2[:,1],marker='x',color='red',s=70,label='Test Class 2')\n",
    "#labeling decoration \n",
    "legend = axis.legend(loc='upper left',fontsize='large',labelspacing=1.0)\n",
    "legend.get_frame().set_facecolor('pink')\n",
    "axis.set_xlabel('x')\n",
    "axis.set_ylabel('y')"
   ]
  },
  {
   "cell_type": "code",
   "execution_count": 22,
   "metadata": {},
   "outputs": [],
   "source": [
    "#part3"
   ]
  },
  {
   "cell_type": "code",
   "execution_count": 23,
   "metadata": {},
   "outputs": [],
   "source": [
    "def knn_eu1(x,train_set, new_sample, K):\n",
    "    dists = {}\n",
    "    dx = []\n",
    "    dx1 = []\n",
    "    \n",
    "    qty_label1 = 0 \n",
    "    qty_label2 = 0 \n",
    "    \n",
    "    for i in range(len(x)):\n",
    "      d = euclidian_dist(x[i], new_sample)\n",
    "      dists[i] = d\n",
    "      dx.append(d)\n",
    "      #print(dx)\n",
    "    dx.sort()\n",
    "    k_neighbors = sorted(dists, key=dists.get)[:K]\n",
    "    \n",
    "    for i in range(K):\n",
    "        dx1.append(dx[i])\n",
    "    \n",
    "    for index in range(len(k_neighbors)):\n",
    "        #print(index,':',dx1[index])\n",
    "        \n",
    "        if train_set[k_neighbors[index]][-1] == 1:\n",
    "            f1.write(\"%s %s %s %s %s %s \\n\" %(\"distance\",index+1,\":\",dx1[index],\"class\",\"1\"))\n",
    "            print('distance ',index+1,':',dx1[index],'class',1)\n",
    "            qty_label1 += 1\n",
    "        else:\n",
    "            f1.write(\"%s %s %s %s %s %s \\n\" %(\"distance\",index+1,\":\",dx1[index],\"class\",\"2\"))\n",
    "            \n",
    "            print('distance ',index+1,':',dx1[index],'class',2)\n",
    "            qty_label2 += 1\n",
    "            \n",
    "    if qty_label1 > qty_label2:\n",
    "        \n",
    "        print('predicted  class 1')\n",
    "        f1.write(\"%s\\n\" %(\"predicted  class 1\"))\n",
    "        \n",
    "    elif qty_label1 < qty_label2:\n",
    "        f1.write(\"%s\\n\" %(\"predicted  class 2\"))\n",
    "        print('predicted  class 2')\n",
    "        \n",
    "    else:\n",
    "        f1.write(\"%s\\n\" %(\"can not predict into any class\"))\n",
    "        print('can not predict into any class')\n",
    "    "
   ]
  },
  {
   "cell_type": "code",
   "execution_count": 24,
   "metadata": {},
   "outputs": [],
   "source": [
    "def knn_man1(x,train_set, new_sample, K):\n",
    "    dists = {}\n",
    "    dx = []\n",
    "    dx1 = []\n",
    "    \n",
    "    qty_label1 = 0 \n",
    "    qty_label2 = 0 \n",
    "    \n",
    "    for i in range(len(x)):\n",
    "      d = manhattan_dist(x[i], new_sample)\n",
    "      dists[i] = d\n",
    "      dx.append(d)\n",
    "      #print(dx)\n",
    "    dx.sort()\n",
    "    k_neighbors = sorted(dists, key=dists.get)[:K]\n",
    "    \n",
    "    for i in range(K):\n",
    "        dx1.append(dx[i])\n",
    "    \n",
    "    for index in range(len(k_neighbors)):\n",
    "        #print(index,':',dx1[index])\n",
    "        \n",
    "        if train_set[k_neighbors[index]][-1] == 1:\n",
    "            print('distance ',index+1,':',dx1[index],'class',1)\n",
    "            f2.write(\"%s %s %s %s %s %s \\n\" %(\"distance\",index+1,\":\",dx1[index],\"class\",\"1\"))\n",
    "            qty_label1 += 1\n",
    "        else:\n",
    "            print('distance ',index+1,':',dx1[index],'class',2)\n",
    "            f2.write(\"%s %s %s %s %s %s \\n\" %(\"distance\",index+1,\":\",dx1[index],\"class\",\"2\"))\n",
    "            qty_label2 += 1\n",
    "            \n",
    "    if qty_label1 > qty_label2:\n",
    "        print('predicted  class 1')\n",
    "        f2.write(\"%s\\n\" %(\"predicted  class 1\"))\n",
    "        \n",
    "    elif qty_label1 < qty_label2:\n",
    "        print('predicted  class 2')\n",
    "        f2.write(\"%s\\n\" %(\"predicted  class 2\"))\n",
    "        \n",
    "    else:\n",
    "        print('can not predict into any class')\n",
    "        f2.write(\"%s\\n\" %(\"can not predict into any class\"))"
   ]
  },
  {
   "cell_type": "code",
   "execution_count": 25,
   "metadata": {},
   "outputs": [],
   "source": [
    "def knn_min1(x,train_set, new_sample, K):\n",
    "    dists = {}\n",
    "    dx = []\n",
    "    dx1 = []\n",
    "    \n",
    "    qty_label1 = 0 \n",
    "    qty_label2 = 0 \n",
    "    \n",
    "    for i in range(len(x)):\n",
    "      d = minkowski_dist(x[i], new_sample)\n",
    "      dists[i] = d\n",
    "      dx.append(d)\n",
    "      #print(dx)\n",
    "    dx.sort()\n",
    "    k_neighbors = sorted(dists, key=dists.get)[:K]\n",
    "    \n",
    "    for i in range(K):\n",
    "        dx1.append(dx[i])\n",
    "    \n",
    "    for index in range(len(k_neighbors)):\n",
    "        #print(index,':',dx1[index])\n",
    "        \n",
    "        if train_set[k_neighbors[index]][-1] == 1:\n",
    "            print('distance ',index+1,':',dx1[index],'class',1)\n",
    "            f3.write(\"%s %s %s %s %s %s \\n\" %(\"distance\",index+1,\":\",dx1[index],\"class\",\"1\"))\n",
    "            qty_label1 += 1\n",
    "        else:\n",
    "            print('distance ',index+1,':',dx1[index],'class',2)\n",
    "            f3.write(\"%s %s %s %s %s %s \\n\" %(\"distance\",index+1,\":\",dx1[index],\"class\",\"2\"))\n",
    "            qty_label2 += 1\n",
    "            \n",
    "    if qty_label1 > qty_label2:\n",
    "        print('predicted  class 1')\n",
    "        f3.write(\"%s\\n\" %(\"predicted  class 1\"))\n",
    "        \n",
    "    elif qty_label1 < qty_label2:\n",
    "        print('predicted  class 2')\n",
    "        f3.write(\"%s\\n\" %(\"predicted  class 2\"))\n",
    "        \n",
    "    else:\n",
    "        print('can not predict into any class')\n",
    "        f3.write(\"%s\\n\" %(\"can not predict into any class\"))"
   ]
  },
  {
   "cell_type": "code",
   "execution_count": 44,
   "metadata": {},
   "outputs": [],
   "source": [
    "f1 = open(\"predict_eu.txt\", \"a\")\n"
   ]
  },
  {
   "cell_type": "code",
   "execution_count": 45,
   "metadata": {},
   "outputs": [
    {
     "name": "stdout",
     "output_type": "stream",
     "text": [
      "Enter your value of k: 9\n",
      "k = 9\n",
      "test point [3 7]\n",
      "distance  1 : 3.0 class 1\n",
      "distance  2 : 3.0 class 2\n",
      "distance  3 : 3.16 class 1\n",
      "distance  4 : 3.16 class 2\n",
      "distance  5 : 3.61 class 2\n",
      "distance  6 : 4.0 class 1\n",
      "distance  7 : 4.0 class 2\n",
      "distance  8 : 4.12 class 1\n",
      "distance  9 : 4.12 class 2\n",
      "predicted  class 2\n",
      "\n",
      "\n",
      "test point [7 7]\n",
      "distance  1 : 0.0 class 1\n",
      "distance  2 : 1.0 class 1\n",
      "distance  3 : 1.0 class 1\n",
      "distance  4 : 1.41 class 1\n",
      "distance  5 : 2.0 class 1\n",
      "distance  6 : 3.0 class 1\n",
      "distance  7 : 3.16 class 1\n",
      "distance  8 : 4.24 class 2\n",
      "distance  9 : 5.0 class 2\n",
      "predicted  class 1\n",
      "\n",
      "\n",
      "test point [4 3]\n",
      "distance  1 : 0.0 class 2\n",
      "distance  2 : 1.0 class 2\n",
      "distance  3 : 1.0 class 2\n",
      "distance  4 : 1.41 class 2\n",
      "distance  5 : 1.41 class 2\n",
      "distance  6 : 2.0 class 2\n",
      "distance  7 : 2.24 class 1\n",
      "distance  8 : 3.16 class 1\n",
      "distance  9 : 3.16 class 2\n",
      "predicted  class 2\n",
      "\n",
      "\n",
      "test point [2 8]\n",
      "distance  1 : 4.12 class 1\n",
      "distance  2 : 4.12 class 2\n",
      "distance  3 : 4.12 class 2\n",
      "distance  4 : 4.47 class 1\n",
      "distance  5 : 4.47 class 2\n",
      "distance  6 : 5.0 class 2\n",
      "distance  7 : 5.1 class 1\n",
      "distance  8 : 5.1 class 2\n",
      "distance  9 : 5.39 class 1\n",
      "predicted  class 2\n",
      "\n",
      "\n",
      "test point [3 5]\n",
      "distance  1 : 1.0 class 2\n",
      "distance  2 : 1.41 class 2\n",
      "distance  3 : 2.0 class 2\n",
      "distance  4 : 2.24 class 2\n",
      "distance  5 : 2.24 class 2\n",
      "distance  6 : 2.24 class 2\n",
      "distance  7 : 3.0 class 2\n",
      "distance  8 : 3.16 class 1\n",
      "distance  9 : 3.16 class 1\n",
      "predicted  class 2\n",
      "\n",
      "\n",
      "test point [1 2]\n",
      "distance  1 : 1.41 class 2\n",
      "distance  2 : 2.0 class 2\n",
      "distance  3 : 2.0 class 2\n",
      "distance  4 : 2.24 class 2\n",
      "distance  5 : 2.83 class 2\n",
      "distance  6 : 3.16 class 2\n",
      "distance  7 : 3.61 class 2\n",
      "distance  8 : 5.39 class 1\n",
      "distance  9 : 6.32 class 1\n",
      "predicted  class 2\n",
      "\n",
      "\n",
      "test point [4 8]\n",
      "distance  1 : 2.24 class 1\n",
      "distance  2 : 2.83 class 1\n",
      "distance  3 : 3.16 class 1\n",
      "distance  4 : 3.61 class 1\n",
      "distance  5 : 4.0 class 2\n",
      "distance  6 : 4.12 class 2\n",
      "distance  7 : 4.24 class 1\n",
      "distance  8 : 4.47 class 1\n",
      "distance  9 : 5.0 class 1\n",
      "predicted  class 1\n",
      "\n",
      "\n",
      "test point [8 3]\n",
      "distance  1 : 1.41 class 1\n",
      "distance  2 : 2.24 class 1\n",
      "distance  3 : 2.24 class 1\n",
      "distance  4 : 3.16 class 1\n",
      "distance  5 : 3.61 class 1\n",
      "distance  6 : 4.0 class 2\n",
      "distance  7 : 4.12 class 1\n",
      "distance  8 : 4.12 class 2\n",
      "distance  9 : 4.47 class 1\n",
      "predicted  class 1\n",
      "\n",
      "\n",
      "test point [8 4]\n",
      "distance  1 : 1.0 class 1\n",
      "distance  2 : 1.41 class 1\n",
      "distance  3 : 2.0 class 1\n",
      "distance  4 : 2.24 class 1\n",
      "distance  5 : 2.83 class 1\n",
      "distance  6 : 3.16 class 1\n",
      "distance  7 : 3.61 class 1\n",
      "distance  8 : 4.0 class 2\n",
      "distance  9 : 4.12 class 2\n",
      "predicted  class 1\n",
      "\n",
      "\n"
     ]
    }
   ],
   "source": [
    "K = int(input(\"Enter your value of k: \"))\n",
    "f1.write(\"%s %s\\n\" %(\"K =\",K))\n",
    "print(\"k =\",K)\n",
    "for j in range(len(test)):\n",
    "    \n",
    "    f1.write(\"%s %s\\n\" %(\"test point\",test[j]))\n",
    "    print('test point',test[j])\n",
    "    knn_eu1(x,train, test[j], K)\n",
    "    f1.write('\\n')\n",
    "    print('\\n')\n",
    "f1.close()"
   ]
  },
  {
   "cell_type": "code",
   "execution_count": 56,
   "metadata": {},
   "outputs": [],
   "source": [
    "f2 = open(\"predict_man.txt\", \"a\")"
   ]
  },
  {
   "cell_type": "code",
   "execution_count": 57,
   "metadata": {},
   "outputs": [
    {
     "name": "stdout",
     "output_type": "stream",
     "text": [
      "Enter your value of k: 9\n",
      "k = 9\n",
      "test point [3 7]\n",
      "distance  1 : 3 class 1\n",
      "distance  2 : 3 class 2\n",
      "distance  3 : 4 class 1\n",
      "distance  4 : 4 class 1\n",
      "distance  5 : 4 class 2\n",
      "distance  6 : 4 class 2\n",
      "distance  7 : 5 class 1\n",
      "distance  8 : 5 class 2\n",
      "distance  9 : 5 class 2\n",
      "predicted  class 2\n",
      "\n",
      "\n",
      "test point [7 7]\n",
      "distance  1 : 0 class 1\n",
      "distance  2 : 1 class 1\n",
      "distance  3 : 1 class 1\n",
      "distance  4 : 2 class 1\n",
      "distance  5 : 2 class 1\n",
      "distance  6 : 3 class 1\n",
      "distance  7 : 4 class 1\n",
      "distance  8 : 6 class 2\n",
      "distance  9 : 7 class 2\n",
      "predicted  class 1\n",
      "\n",
      "\n",
      "test point [4 3]\n",
      "distance  1 : 0 class 2\n",
      "distance  2 : 1 class 2\n",
      "distance  3 : 1 class 2\n",
      "distance  4 : 2 class 2\n",
      "distance  5 : 2 class 2\n",
      "distance  6 : 2 class 2\n",
      "distance  7 : 3 class 1\n",
      "distance  8 : 4 class 1\n",
      "distance  9 : 4 class 2\n",
      "predicted  class 2\n",
      "\n",
      "\n",
      "test point [2 8]\n",
      "distance  1 : 5 class 1\n",
      "distance  2 : 5 class 2\n",
      "distance  3 : 5 class 2\n",
      "distance  4 : 5 class 2\n",
      "distance  5 : 6 class 1\n",
      "distance  6 : 6 class 1\n",
      "distance  7 : 6 class 2\n",
      "distance  8 : 6 class 2\n",
      "distance  9 : 7 class 1\n",
      "predicted  class 2\n",
      "\n",
      "\n",
      "test point [3 5]\n",
      "distance  1 : 1 class 2\n",
      "distance  2 : 2 class 2\n",
      "distance  3 : 2 class 2\n",
      "distance  4 : 3 class 2\n",
      "distance  5 : 3 class 2\n",
      "distance  6 : 3 class 2\n",
      "distance  7 : 3 class 2\n",
      "distance  8 : 4 class 1\n",
      "distance  9 : 4 class 1\n",
      "predicted  class 2\n",
      "\n",
      "\n",
      "test point [1 2]\n",
      "distance  1 : 2 class 2\n",
      "distance  2 : 2 class 2\n",
      "distance  3 : 2 class 2\n",
      "distance  4 : 3 class 2\n",
      "distance  5 : 4 class 2\n",
      "distance  6 : 4 class 2\n",
      "distance  7 : 5 class 2\n",
      "distance  8 : 7 class 1\n",
      "distance  9 : 8 class 1\n",
      "predicted  class 2\n",
      "\n",
      "\n",
      "test point [4 8]\n",
      "distance  1 : 3 class 1\n",
      "distance  2 : 4 class 1\n",
      "distance  3 : 4 class 1\n",
      "distance  4 : 4 class 2\n",
      "distance  5 : 5 class 1\n",
      "distance  6 : 5 class 2\n",
      "distance  7 : 5 class 2\n",
      "distance  8 : 6 class 1\n",
      "distance  9 : 6 class 1\n",
      "predicted  class 1\n",
      "\n",
      "\n",
      "test point [8 3]\n",
      "distance  1 : 2 class 1\n",
      "distance  2 : 3 class 1\n",
      "distance  3 : 3 class 1\n",
      "distance  4 : 4 class 1\n",
      "distance  5 : 4 class 2\n",
      "distance  6 : 5 class 1\n",
      "distance  7 : 5 class 1\n",
      "distance  8 : 5 class 2\n",
      "distance  9 : 5 class 2\n",
      "predicted  class 1\n",
      "\n",
      "\n",
      "test point [8 4]\n",
      "distance  1 : 1 class 1\n",
      "distance  2 : 2 class 1\n",
      "distance  3 : 2 class 1\n",
      "distance  4 : 3 class 1\n",
      "distance  5 : 4 class 1\n",
      "distance  6 : 4 class 1\n",
      "distance  7 : 4 class 2\n",
      "distance  8 : 5 class 1\n",
      "distance  9 : 5 class 2\n",
      "predicted  class 1\n",
      "\n",
      "\n"
     ]
    }
   ],
   "source": [
    "K = int(input(\"Enter your value of k: \"))\n",
    "f2.write(\"%s %s\\n\" %(\"K =\",K))\n",
    "print(\"k =\",K)\n",
    "for j in range(len(test)):\n",
    "    f2.write(\"%s %s\\n\" %(\"test point\",test[j]))\n",
    "    print('test point',test[j])\n",
    "    knn_man1(x,train, test[j], K)\n",
    "    print('\\n')\n",
    "    f2.write('\\n')\n",
    "f2.close()"
   ]
  },
  {
   "cell_type": "code",
   "execution_count": 54,
   "metadata": {},
   "outputs": [],
   "source": [
    "f3 = open(\"predict_min.txt\", \"a\")"
   ]
  },
  {
   "cell_type": "code",
   "execution_count": 55,
   "metadata": {},
   "outputs": [
    {
     "name": "stdout",
     "output_type": "stream",
     "text": [
      "Enter your value of k: 9\n",
      "k = 9\n",
      "test point [3 7]\n",
      "distance  1 : 3.0 class 1\n",
      "distance  2 : 3.0 class 2\n",
      "distance  3 : 3.37 class 1\n",
      "distance  4 : 3.37 class 2\n",
      "distance  5 : 4.0 class 1\n",
      "distance  6 : 4.0 class 2\n",
      "distance  7 : 4.01 class 2\n",
      "distance  8 : 4.33 class 1\n",
      "distance  9 : 4.33 class 2\n",
      "predicted  class 2\n",
      "\n",
      "\n",
      "test point [7 7]\n",
      "distance  1 : 0.0 class 1\n",
      "distance  2 : 1.0 class 1\n",
      "distance  3 : 1.0 class 1\n",
      "distance  4 : 1.59 class 1\n",
      "distance  5 : 2.0 class 1\n",
      "distance  6 : 3.0 class 1\n",
      "distance  7 : 3.37 class 1\n",
      "distance  8 : 4.76 class 2\n",
      "distance  9 : 5.58 class 2\n",
      "predicted  class 1\n",
      "\n",
      "\n",
      "test point [4 3]\n",
      "distance  1 : 0.0 class 2\n",
      "distance  2 : 1.0 class 2\n",
      "distance  3 : 1.0 class 2\n",
      "distance  4 : 1.59 class 2\n",
      "distance  5 : 1.59 class 2\n",
      "distance  6 : 2.0 class 2\n",
      "distance  7 : 2.45 class 1\n",
      "distance  8 : 3.37 class 1\n",
      "distance  9 : 3.37 class 2\n",
      "predicted  class 2\n",
      "\n",
      "\n",
      "test point [2 8]\n",
      "distance  1 : 4.33 class 1\n",
      "distance  2 : 4.33 class 2\n",
      "distance  3 : 4.33 class 2\n",
      "distance  4 : 4.89 class 1\n",
      "distance  5 : 4.89 class 2\n",
      "distance  6 : 5.0 class 2\n",
      "distance  7 : 5.29 class 1\n",
      "distance  8 : 5.29 class 2\n",
      "distance  9 : 5.81 class 1\n",
      "predicted  class 2\n",
      "\n",
      "\n",
      "test point [3 5]\n",
      "distance  1 : 1.0 class 2\n",
      "distance  2 : 1.59 class 2\n",
      "distance  3 : 2.0 class 2\n",
      "distance  4 : 2.45 class 2\n",
      "distance  5 : 2.45 class 2\n",
      "distance  6 : 2.45 class 2\n",
      "distance  7 : 3.0 class 2\n",
      "distance  8 : 3.37 class 1\n",
      "distance  9 : 3.37 class 1\n",
      "predicted  class 2\n",
      "\n",
      "\n",
      "test point [1 2]\n",
      "distance  1 : 1.59 class 2\n",
      "distance  2 : 2.0 class 2\n",
      "distance  3 : 2.0 class 2\n",
      "distance  4 : 2.45 class 2\n",
      "distance  5 : 3.17 class 2\n",
      "distance  6 : 3.37 class 2\n",
      "distance  7 : 4.01 class 2\n",
      "distance  8 : 5.81 class 1\n",
      "distance  9 : 6.75 class 1\n",
      "predicted  class 2\n",
      "\n",
      "\n",
      "test point [4 8]\n",
      "distance  1 : 2.45 class 1\n",
      "distance  2 : 3.17 class 1\n",
      "distance  3 : 3.37 class 1\n",
      "distance  4 : 4.0 class 2\n",
      "distance  5 : 4.01 class 1\n",
      "distance  6 : 4.33 class 2\n",
      "distance  7 : 4.76 class 1\n",
      "distance  8 : 4.89 class 1\n",
      "distance  9 : 5.0 class 2\n",
      "predicted  class 1\n",
      "\n",
      "\n",
      "test point [8 3]\n",
      "distance  1 : 1.59 class 1\n",
      "distance  2 : 2.45 class 1\n",
      "distance  3 : 2.45 class 1\n",
      "distance  4 : 3.37 class 1\n",
      "distance  5 : 4.0 class 2\n",
      "distance  6 : 4.01 class 1\n",
      "distance  7 : 4.33 class 1\n",
      "distance  8 : 4.33 class 2\n",
      "distance  9 : 4.89 class 1\n",
      "predicted  class 1\n",
      "\n",
      "\n",
      "test point [8 4]\n",
      "distance  1 : 1.0 class 1\n",
      "distance  2 : 1.59 class 1\n",
      "distance  3 : 2.0 class 1\n",
      "distance  4 : 2.45 class 1\n",
      "distance  5 : 3.17 class 1\n",
      "distance  6 : 3.37 class 1\n",
      "distance  7 : 4.0 class 2\n",
      "distance  8 : 4.01 class 1\n",
      "distance  9 : 4.33 class 2\n",
      "predicted  class 1\n",
      "\n",
      "\n"
     ]
    }
   ],
   "source": [
    "K = int(input(\"Enter your value of k: \"))\n",
    "f3.write(\"%s %s\\n\" %(\"K =\",K))\n",
    "print(\"k =\",K)\n",
    "for j in range(len(test)):\n",
    "    f3.write(\"%s %s\\n\" %(\"test point\",test[j]))\n",
    "    print('test point',test[j])\n",
    "    knn_min1(x,train, test[j], K)\n",
    "    print('\\n')\n",
    "    f3.write('\\n')\n",
    "f3.close()"
   ]
  },
  {
   "cell_type": "code",
   "execution_count": null,
   "metadata": {},
   "outputs": [],
   "source": []
  }
 ],
 "metadata": {
  "kernelspec": {
   "display_name": "Python 3",
   "language": "python",
   "name": "python3"
  },
  "language_info": {
   "codemirror_mode": {
    "name": "ipython",
    "version": 3
   },
   "file_extension": ".py",
   "mimetype": "text/x-python",
   "name": "python",
   "nbconvert_exporter": "python",
   "pygments_lexer": "ipython3",
   "version": "3.8.5"
  }
 },
 "nbformat": 4,
 "nbformat_minor": 4
}
